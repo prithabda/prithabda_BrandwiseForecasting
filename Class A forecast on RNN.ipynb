{
 "cells": [
  {
   "cell_type": "code",
   "execution_count": 1,
   "metadata": {},
   "outputs": [],
   "source": [
    "# Part 1 - Data Preprocessing\n",
    "\n",
    "# Importing the libraries\n",
    "import numpy as np\n",
    "import matplotlib.pyplot as plt\n",
    "import pandas as pd"
   ]
  },
  {
   "cell_type": "code",
   "execution_count": 2,
   "metadata": {},
   "outputs": [],
   "source": [
    "# Importing the training set\n",
    "dataset_train = pd.read_csv('sales_afinal.csv')"
   ]
  },
  {
   "cell_type": "code",
   "execution_count": 3,
   "metadata": {},
   "outputs": [],
   "source": [
    "training_set = dataset_train.iloc[:, 1:2].values"
   ]
  },
  {
   "cell_type": "code",
   "execution_count": 4,
   "metadata": {},
   "outputs": [],
   "source": [
    "# Feature Scaling\n",
    "from sklearn.preprocessing import MinMaxScaler\n",
    "sc = MinMaxScaler(feature_range = (0, 1))\n",
    "training_set_scaled = sc.fit_transform(training_set)"
   ]
  },
  {
   "cell_type": "code",
   "execution_count": 5,
   "metadata": {},
   "outputs": [],
   "source": [
    "# Creating a data structure with 8 timesteps and 1 output. Considering the next output will depend on at least 8 previous outputs.\n",
    "X_train = []\n",
    "y_train = []\n",
    "\n",
    "\n",
    "for i in range(8, len(training_set_scaled)):\n",
    "    X_train.append(training_set_scaled[i-8:i, 0])\n",
    "    y_train.append(training_set_scaled[i, 0])\n",
    "    \n",
    "X_train, y_train = np.array(X_train), np.array(y_train)"
   ]
  },
  {
   "cell_type": "code",
   "execution_count": 7,
   "metadata": {},
   "outputs": [],
   "source": [
    "# Reshaping\n",
    "X_train = np.reshape(X_train, (X_train.shape[0], X_train.shape[1], 1))"
   ]
  },
  {
   "cell_type": "code",
   "execution_count": 8,
   "metadata": {},
   "outputs": [
    {
     "data": {
      "text/plain": [
       "array([0.35025381, 0.47715736, 0.51269036, 0.60913706, 0.55837563,\n",
       "       0.52791878, 0.59390863, 0.58883249, 0.52284264, 0.77664975,\n",
       "       0.73096447, 0.64467005, 0.58375635, 0.56852792, 1.        ,\n",
       "       0.52791878, 0.48730964, 0.44162437, 0.60913706, 0.59898477,\n",
       "       0.88324873, 0.4822335 , 0.45685279, 0.39086294, 0.37563452,\n",
       "       0.34517766, 0.47208122, 0.62944162, 0.36040609, 0.5177665 ,\n",
       "       0.49746193, 0.62944162, 0.70558376, 0.75126904, 0.0964467 ,\n",
       "       0.1319797 , 0.11675127, 0.17258883, 0.11675127, 0.11167513,\n",
       "       0.03553299, 0.07614213, 0.05076142, 0.06598985, 0.04568528,\n",
       "       0.04060914, 0.        , 0.11167513, 0.05076142, 0.05583756,\n",
       "       0.00507614, 0.06091371, 0.10659898, 0.14720812])"
      ]
     },
     "execution_count": 8,
     "metadata": {},
     "output_type": "execute_result"
    }
   ],
   "source": [
    "y_train"
   ]
  },
  {
   "cell_type": "code",
   "execution_count": 9,
   "metadata": {},
   "outputs": [],
   "source": [
    "# Part 2 - Building the RNN"
   ]
  },
  {
   "cell_type": "code",
   "execution_count": 10,
   "metadata": {},
   "outputs": [
    {
     "name": "stderr",
     "output_type": "stream",
     "text": [
      "Using TensorFlow backend.\n"
     ]
    }
   ],
   "source": [
    "# Importing the Keras libraries and packages\n",
    "from keras.models import Sequential\n",
    "from keras.layers import Dense\n",
    "from keras.layers import LSTM\n",
    "from keras.layers import Dropout\n",
    "\n",
    "# Initialising the RNN\n",
    "regressor = Sequential()"
   ]
  },
  {
   "cell_type": "code",
   "execution_count": 11,
   "metadata": {},
   "outputs": [],
   "source": [
    "# Adding the first LSTM layer and some Dropout regularisation\n",
    "regressor.add(LSTM(units = 50, return_sequences = True, input_shape = (X_train.shape[1], 1)))\n",
    "regressor.add(Dropout(0.2))\n"
   ]
  },
  {
   "cell_type": "code",
   "execution_count": 12,
   "metadata": {},
   "outputs": [],
   "source": [
    "# Adding a second LSTM layer and some Dropout regularisation\n",
    "regressor.add(LSTM(units = 50, return_sequences = True))\n",
    "regressor.add(Dropout(0.2))"
   ]
  },
  {
   "cell_type": "code",
   "execution_count": 13,
   "metadata": {},
   "outputs": [],
   "source": [
    "# Adding a third LSTM layer and some Dropout regularisation\n",
    "regressor.add(LSTM(units = 50))\n",
    "regressor.add(Dropout(0.2))"
   ]
  },
  {
   "cell_type": "code",
   "execution_count": 14,
   "metadata": {},
   "outputs": [],
   "source": [
    "# Adding the output layer\n",
    "regressor.add(Dense(units = 1))"
   ]
  },
  {
   "cell_type": "code",
   "execution_count": 15,
   "metadata": {},
   "outputs": [],
   "source": [
    "# Compiling the RNN\n",
    "regressor.compile(optimizer = 'adam', loss = 'mean_squared_error')"
   ]
  },
  {
   "cell_type": "code",
   "execution_count": 16,
   "metadata": {},
   "outputs": [
    {
     "name": "stdout",
     "output_type": "stream",
     "text": [
      "Model: \"sequential_1\"\n",
      "_________________________________________________________________\n",
      "Layer (type)                 Output Shape              Param #   \n",
      "=================================================================\n",
      "lstm_1 (LSTM)                (None, 8, 50)             10400     \n",
      "_________________________________________________________________\n",
      "dropout_1 (Dropout)          (None, 8, 50)             0         \n",
      "_________________________________________________________________\n",
      "lstm_2 (LSTM)                (None, 8, 50)             20200     \n",
      "_________________________________________________________________\n",
      "dropout_2 (Dropout)          (None, 8, 50)             0         \n",
      "_________________________________________________________________\n",
      "lstm_3 (LSTM)                (None, 50)                20200     \n",
      "_________________________________________________________________\n",
      "dropout_3 (Dropout)          (None, 50)                0         \n",
      "_________________________________________________________________\n",
      "dense_1 (Dense)              (None, 1)                 51        \n",
      "=================================================================\n",
      "Total params: 50,851\n",
      "Trainable params: 50,851\n",
      "Non-trainable params: 0\n",
      "_________________________________________________________________\n"
     ]
    }
   ],
   "source": [
    "regressor.summary()"
   ]
  },
  {
   "cell_type": "code",
   "execution_count": 17,
   "metadata": {},
   "outputs": [
    {
     "name": "stdout",
     "output_type": "stream",
     "text": [
      "Epoch 1/40\n",
      "54/54 [==============================] - 8s 149ms/step - loss: 0.1674\n",
      "Epoch 2/40\n",
      "54/54 [==============================] - 0s 8ms/step - loss: 0.0684\n",
      "Epoch 3/40\n",
      "54/54 [==============================] - 1s 10ms/step - loss: 0.0496\n",
      "Epoch 4/40\n",
      "54/54 [==============================] - 0s 9ms/step - loss: 0.0434\n",
      "Epoch 5/40\n",
      "54/54 [==============================] - 0s 8ms/step - loss: 0.0407\n",
      "Epoch 6/40\n",
      "54/54 [==============================] - 0s 9ms/step - loss: 0.0407\n",
      "Epoch 7/40\n",
      "54/54 [==============================] - 0s 8ms/step - loss: 0.0449\n",
      "Epoch 8/40\n",
      "54/54 [==============================] - 0s 8ms/step - loss: 0.0466\n",
      "Epoch 9/40\n",
      "54/54 [==============================] - 0s 9ms/step - loss: 0.0451\n",
      "Epoch 10/40\n",
      "54/54 [==============================] - 0s 8ms/step - loss: 0.0373\n",
      "Epoch 11/40\n",
      "54/54 [==============================] - 0s 8ms/step - loss: 0.0365\n",
      "Epoch 12/40\n",
      "54/54 [==============================] - 0s 8ms/step - loss: 0.0382\n",
      "Epoch 13/40\n",
      "54/54 [==============================] - 0s 9ms/step - loss: 0.0349\n",
      "Epoch 14/40\n",
      "54/54 [==============================] - 0s 8ms/step - loss: 0.0337\n",
      "Epoch 15/40\n",
      "54/54 [==============================] - 0s 8ms/step - loss: 0.0379\n",
      "Epoch 16/40\n",
      "54/54 [==============================] - 0s 8ms/step - loss: 0.0393\n",
      "Epoch 17/40\n",
      "54/54 [==============================] - 0s 9ms/step - loss: 0.0368\n",
      "Epoch 18/40\n",
      "54/54 [==============================] - 0s 9ms/step - loss: 0.0460\n",
      "Epoch 19/40\n",
      "54/54 [==============================] - 0s 8ms/step - loss: 0.0387\n",
      "Epoch 20/40\n",
      "54/54 [==============================] - 0s 8ms/step - loss: 0.0332\n",
      "Epoch 21/40\n",
      "54/54 [==============================] - 0s 9ms/step - loss: 0.0360\n",
      "Epoch 22/40\n",
      "54/54 [==============================] - 0s 9ms/step - loss: 0.0345\n",
      "Epoch 23/40\n",
      "54/54 [==============================] - 0s 9ms/step - loss: 0.0345\n",
      "Epoch 24/40\n",
      "54/54 [==============================] - 0s 9ms/step - loss: 0.0418\n",
      "Epoch 25/40\n",
      "54/54 [==============================] - 0s 8ms/step - loss: 0.0297\n",
      "Epoch 26/40\n",
      "54/54 [==============================] - 0s 9ms/step - loss: 0.0356\n",
      "Epoch 27/40\n",
      "54/54 [==============================] - 0s 9ms/step - loss: 0.0398\n",
      "Epoch 28/40\n",
      "54/54 [==============================] - 0s 9ms/step - loss: 0.0339\n",
      "Epoch 29/40\n",
      "54/54 [==============================] - 0s 8ms/step - loss: 0.0441\n",
      "Epoch 30/40\n",
      "54/54 [==============================] - 0s 8ms/step - loss: 0.0374\n",
      "Epoch 31/40\n",
      "54/54 [==============================] - 0s 9ms/step - loss: 0.0315\n",
      "Epoch 32/40\n",
      "54/54 [==============================] - 0s 8ms/step - loss: 0.0338\n",
      "Epoch 33/40\n",
      "54/54 [==============================] - 0s 9ms/step - loss: 0.0376\n",
      "Epoch 34/40\n",
      "54/54 [==============================] - 0s 9ms/step - loss: 0.0343\n",
      "Epoch 35/40\n",
      "54/54 [==============================] - 0s 9ms/step - loss: 0.0357\n",
      "Epoch 36/40\n",
      "54/54 [==============================] - 0s 8ms/step - loss: 0.0318\n",
      "Epoch 37/40\n",
      "54/54 [==============================] - 0s 9ms/step - loss: 0.0339\n",
      "Epoch 38/40\n",
      "54/54 [==============================] - 0s 9ms/step - loss: 0.0297\n",
      "Epoch 39/40\n",
      "54/54 [==============================] - 0s 8ms/step - loss: 0.0352\n",
      "Epoch 40/40\n",
      "54/54 [==============================] - 0s 9ms/step - loss: 0.0347\n"
     ]
    },
    {
     "data": {
      "text/plain": [
       "<keras.callbacks.callbacks.History at 0x23bf7287860>"
      ]
     },
     "execution_count": 17,
     "metadata": {},
     "output_type": "execute_result"
    }
   ],
   "source": [
    "# Fitting the RNN to the Training set\n",
    "regressor.fit(X_train, y_train, epochs = 40, batch_size = 10)"
   ]
  },
  {
   "cell_type": "code",
   "execution_count": 18,
   "metadata": {},
   "outputs": [],
   "source": [
    "# Part 3 - Making the predictions and visualising the results\n",
    "\n",
    "# Getting the real sale price of 2019\n",
    "dataset_test = pd.read_csv('sales_atest.csv')\n",
    "real_sale_price = dataset_test.iloc[:, 1:2].values"
   ]
  },
  {
   "cell_type": "code",
   "execution_count": 19,
   "metadata": {},
   "outputs": [
    {
     "data": {
      "text/plain": [
       "array([[58],\n",
       "       [59],\n",
       "       [63],\n",
       "       [49],\n",
       "       [52],\n",
       "       [48],\n",
       "       [51],\n",
       "       [39],\n",
       "       [40],\n",
       "       [41],\n",
       "       [48],\n",
       "       [46],\n",
       "       [51],\n",
       "       [53],\n",
       "       [58],\n",
       "       [50]], dtype=int64)"
      ]
     },
     "execution_count": 19,
     "metadata": {},
     "output_type": "execute_result"
    }
   ],
   "source": [
    "real_sale_price"
   ]
  },
  {
   "cell_type": "code",
   "execution_count": 20,
   "metadata": {},
   "outputs": [],
   "source": [
    "# Getting the predicted sale price of 2020\n",
    "dataset_total = pd.concat((dataset_train['sales'], dataset_test['sales']), axis = 0)\n",
    "inputs = dataset_total[len(dataset_total) - len(dataset_test) - 8:].values\n",
    "inputs = inputs.reshape(-1,1)\n",
    "inputs = sc.transform(inputs)"
   ]
  },
  {
   "cell_type": "code",
   "execution_count": 21,
   "metadata": {},
   "outputs": [
    {
     "data": {
      "text/plain": [
       "24"
      ]
     },
     "execution_count": 21,
     "metadata": {},
     "output_type": "execute_result"
    }
   ],
   "source": [
    "len(inputs)"
   ]
  },
  {
   "cell_type": "code",
   "execution_count": 22,
   "metadata": {},
   "outputs": [
    {
     "data": {
      "text/plain": [
       "0     151\n",
       "1     127\n",
       "2     113\n",
       "3     105\n",
       "4     113\n",
       "     ... \n",
       "11     46\n",
       "12     51\n",
       "13     53\n",
       "14     58\n",
       "15     50\n",
       "Name: sales, Length: 78, dtype: int64"
      ]
     },
     "execution_count": 22,
     "metadata": {},
     "output_type": "execute_result"
    }
   ],
   "source": [
    "dataset_total"
   ]
  },
  {
   "cell_type": "code",
   "execution_count": 23,
   "metadata": {},
   "outputs": [],
   "source": [
    "X_test = []\n",
    "for i in range(8, 25):\n",
    "    X_test.append(inputs[i-8:i, 0])\n",
    "X_test = np.array(X_test)\n",
    "X_test = np.reshape(X_test, (X_test.shape[0], X_test.shape[1], 1))\n",
    "predicted_sale = regressor.predict(X_test)\n",
    "predicted_sale = sc.inverse_transform(predicted_sale)"
   ]
  },
  {
   "cell_type": "code",
   "execution_count": 24,
   "metadata": {},
   "outputs": [
    {
     "data": {
      "text/plain": [
       "array([[46.366085],\n",
       "       [48.98924 ],\n",
       "       [50.10276 ],\n",
       "       [52.928024],\n",
       "       [55.35839 ],\n",
       "       [58.09415 ],\n",
       "       [58.92496 ],\n",
       "       [58.421947],\n",
       "       [56.596848],\n",
       "       [54.53921 ],\n",
       "       [52.177586],\n",
       "       [49.74958 ],\n",
       "       [48.974525],\n",
       "       [48.362606],\n",
       "       [48.662903],\n",
       "       [49.32663 ],\n",
       "       [51.292225]], dtype=float32)"
      ]
     },
     "execution_count": 24,
     "metadata": {},
     "output_type": "execute_result"
    }
   ],
   "source": [
    "predicted_sale"
   ]
  },
  {
   "cell_type": "code",
   "execution_count": 25,
   "metadata": {},
   "outputs": [
    {
     "data": {
      "image/png": "[encoded data removed]",
      "text/plain": [
       "<matplotlib.figure.Figure at 0x23bf7276eb8>"
      ]
     },
     "metadata": {
      "needs_background": "light"
     },
     "output_type": "display_data"
    }
   ],
   "source": [
    "# Visualising the results\n",
    "plt.plot(predicted_sale, color = 'blue', label = 'Predicted Sale Price')\n",
    "plt.title('Forecast (Jan-Jun)')\n",
    "plt.xlabel('Week')\n",
    "plt.ylabel('Sale')\n",
    "plt.legend()\n",
    "plt.show()"
   ]
  },
  {
   "cell_type": "markdown",
   "metadata": {},
   "source": [
    "**The End**"
   ]
  }
 ],
 "metadata": {
  "kernelspec": {
   "display_name": "Python 3",
   "language": "python",
   "name": "python3"
  },
  "language_info": {
   "codemirror_mode": {
    "name": "ipython",
    "version": 3
   },
   "file_extension": ".py",
   "mimetype": "text/x-python",
   "name": "python",
   "nbconvert_exporter": "python",
   "pygments_lexer": "ipython3",
   "version": "3.6.10"
  }
 },
 "nbformat": 4,
 "nbformat_minor": 4
}
